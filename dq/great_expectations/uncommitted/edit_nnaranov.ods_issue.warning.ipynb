{
 "cells": [
  {
   "cell_type": "markdown",
   "id": "aa8514f7",
   "metadata": {},
   "source": [
    "# Edit Your Expectation Suite\n",
    "Use this notebook to recreate and modify your expectation suite:\n",
    "\n",
    "**Expectation Suite Name**: `nnaranov.ods_issue.warning`\n",
    "\n",
    "We'd love it if you **reach out to us on** the [**Great Expectations Slack Channel**](https://greatexpectations.io/slack)"
   ]
  },
  {
   "cell_type": "code",
   "execution_count": 1,
   "id": "dbf84e95",
   "metadata": {},
   "outputs": [
    {
     "name": "stdout",
     "output_type": "stream",
     "text": [
      "2021-05-23T00:53:29+0300 - INFO - Great Expectations logging enabled at 20 level by JupyterUX module.\n",
      "2021-05-23T00:53:31+0300 - INFO - Generating query from table batch_kwargs based on limit and offset\n",
      "2021-05-23T00:53:33+0300 - INFO - \t0 expectation(s) included in expectation_suite.\n"
     ]
    },
    {
     "data": {
      "text/html": [
       "<div>\n",
       "<style scoped>\n",
       "    .dataframe tbody tr th:only-of-type {\n",
       "        vertical-align: middle;\n",
       "    }\n",
       "\n",
       "    .dataframe tbody tr th {\n",
       "        vertical-align: top;\n",
       "    }\n",
       "\n",
       "    .dataframe thead th {\n",
       "        text-align: right;\n",
       "    }\n",
       "</style>\n",
       "<table border=\"1\" class=\"dataframe\">\n",
       "  <thead>\n",
       "    <tr style=\"text-align: right;\">\n",
       "      <th></th>\n",
       "      <th>user_id</th>\n",
       "      <th>start_time</th>\n",
       "      <th>end_time</th>\n",
       "      <th>title</th>\n",
       "      <th>description</th>\n",
       "      <th>service</th>\n",
       "    </tr>\n",
       "  </thead>\n",
       "  <tbody>\n",
       "    <tr>\n",
       "      <th>0</th>\n",
       "      <td>10250</td>\n",
       "      <td>2013-05-22 22:22:31</td>\n",
       "      <td>2015-01-04 22:22:31</td>\n",
       "      <td>txBhMmbrtoqber</td>\n",
       "      <td>oizcaKGrfkGesm</td>\n",
       "      <td>Disconnect</td>\n",
       "    </tr>\n",
       "    <tr>\n",
       "      <th>1</th>\n",
       "      <td>10800</td>\n",
       "      <td>2013-12-25 22:22:31</td>\n",
       "      <td>2017-04-27 22:22:31</td>\n",
       "      <td>baimuovdgymtyc</td>\n",
       "      <td>iikxVkucttlowe</td>\n",
       "      <td>Setup Environment</td>\n",
       "    </tr>\n",
       "    <tr>\n",
       "      <th>2</th>\n",
       "      <td>11100</td>\n",
       "      <td>2013-01-12 22:22:31</td>\n",
       "      <td>2018-04-01 22:22:31</td>\n",
       "      <td>gJmfgpdyypuuew</td>\n",
       "      <td>wzmeukzisedgwa</td>\n",
       "      <td>Connect</td>\n",
       "    </tr>\n",
       "    <tr>\n",
       "      <th>3</th>\n",
       "      <td>11030</td>\n",
       "      <td>2013-10-05 22:22:31</td>\n",
       "      <td>2019-01-17 22:22:31</td>\n",
       "      <td>iSkciztlhufgzq</td>\n",
       "      <td>rmdrbmznthtdmr</td>\n",
       "      <td>Setup Environment</td>\n",
       "    </tr>\n",
       "    <tr>\n",
       "      <th>4</th>\n",
       "      <td>10560</td>\n",
       "      <td>2013-12-22 22:22:31</td>\n",
       "      <td>2015-04-29 22:22:31</td>\n",
       "      <td>akbrbnbqvSnybb</td>\n",
       "      <td>kctnqckfkhdiht</td>\n",
       "      <td>Setup Environment</td>\n",
       "    </tr>\n",
       "  </tbody>\n",
       "</table>\n",
       "</div>"
      ],
      "text/plain": [
       "   user_id          start_time            end_time           title  \\\n",
       "0    10250 2013-05-22 22:22:31 2015-01-04 22:22:31  txBhMmbrtoqber   \n",
       "1    10800 2013-12-25 22:22:31 2017-04-27 22:22:31  baimuovdgymtyc   \n",
       "2    11100 2013-01-12 22:22:31 2018-04-01 22:22:31  gJmfgpdyypuuew   \n",
       "3    11030 2013-10-05 22:22:31 2019-01-17 22:22:31  iSkciztlhufgzq   \n",
       "4    10560 2013-12-22 22:22:31 2015-04-29 22:22:31  akbrbnbqvSnybb   \n",
       "\n",
       "      description            service  \n",
       "0  oizcaKGrfkGesm         Disconnect  \n",
       "1  iikxVkucttlowe  Setup Environment  \n",
       "2  wzmeukzisedgwa            Connect  \n",
       "3  rmdrbmznthtdmr  Setup Environment  \n",
       "4  kctnqckfkhdiht  Setup Environment  "
      ]
     },
     "execution_count": 1,
     "metadata": {},
     "output_type": "execute_result"
    }
   ],
   "source": [
    "import datetime\n",
    "import great_expectations as ge\n",
    "import great_expectations.jupyter_ux\n",
    "from great_expectations.checkpoint import LegacyCheckpoint\n",
    "from great_expectations.data_context.types.resource_identifiers import ValidationResultIdentifier\n",
    "\n",
    "context = ge.data_context.DataContext()\n",
    "\n",
    "# Feel free to change the name of your suite here. Renaming this will not\n",
    "# remove the other one.\n",
    "expectation_suite_name = \"nnaranov.ods_issue.warning\"\n",
    "suite = context.get_expectation_suite(expectation_suite_name)\n",
    "suite.expectations = []\n",
    "\n",
    "batch_kwargs = {'data_asset_name': 'nnaranov.ods_issue', 'datasource': 'gr', 'limit': 1000, 'schema': 'nnaranov', 'table': 'ods_issue'}\n",
    "batch = context.get_batch(batch_kwargs, suite)\n",
    "batch.head()"
   ]
  },
  {
   "cell_type": "markdown",
   "id": "54396f90",
   "metadata": {},
   "source": [
    "## Create & Edit Expectations\n",
    "\n",
    "Add expectations by calling specific expectation methods on the `batch` object. They all begin with `.expect_` which makes autocompleting easy using tab.\n",
    "\n",
    "You can see all the available expectations in the **[expectation glossary](https://docs.greatexpectations.io/en/latest/reference/glossary_of_expectations.html?utm_source=notebook&utm_medium=create_expectations)**."
   ]
  },
  {
   "cell_type": "markdown",
   "id": "423d339a",
   "metadata": {},
   "source": [
    "### Table Expectation(s)"
   ]
  },
  {
   "cell_type": "code",
   "execution_count": 2,
   "id": "0bc600f9",
   "metadata": {},
   "outputs": [
    {
     "data": {
      "text/plain": [
       "{\n",
       "  \"meta\": {},\n",
       "  \"result\": {\n",
       "    \"observed_value\": 1000\n",
       "  },\n",
       "  \"success\": true,\n",
       "  \"exception_info\": {\n",
       "    \"raised_exception\": false,\n",
       "    \"exception_traceback\": null,\n",
       "    \"exception_message\": null\n",
       "  }\n",
       "}"
      ]
     },
     "execution_count": 2,
     "metadata": {},
     "output_type": "execute_result"
    }
   ],
   "source": [
    "batch.expect_table_row_count_to_be_between(max_value=1100, min_value=900)"
   ]
  },
  {
   "cell_type": "code",
   "execution_count": 3,
   "id": "96a4419e",
   "metadata": {},
   "outputs": [
    {
     "data": {
      "text/plain": [
       "{\n",
       "  \"meta\": {},\n",
       "  \"result\": {\n",
       "    \"observed_value\": 6\n",
       "  },\n",
       "  \"success\": true,\n",
       "  \"exception_info\": {\n",
       "    \"raised_exception\": false,\n",
       "    \"exception_traceback\": null,\n",
       "    \"exception_message\": null\n",
       "  }\n",
       "}"
      ]
     },
     "execution_count": 3,
     "metadata": {},
     "output_type": "execute_result"
    }
   ],
   "source": [
    "batch.expect_table_column_count_to_equal(value=6)"
   ]
  },
  {
   "cell_type": "code",
   "execution_count": 4,
   "id": "1be00676",
   "metadata": {},
   "outputs": [
    {
     "data": {
      "text/plain": [
       "{\n",
       "  \"meta\": {},\n",
       "  \"result\": {\n",
       "    \"observed_value\": [\n",
       "      \"user_id\",\n",
       "      \"start_time\",\n",
       "      \"end_time\",\n",
       "      \"title\",\n",
       "      \"description\",\n",
       "      \"service\"\n",
       "    ]\n",
       "  },\n",
       "  \"success\": true,\n",
       "  \"exception_info\": {\n",
       "    \"raised_exception\": false,\n",
       "    \"exception_traceback\": null,\n",
       "    \"exception_message\": null\n",
       "  }\n",
       "}"
      ]
     },
     "execution_count": 4,
     "metadata": {},
     "output_type": "execute_result"
    }
   ],
   "source": [
    "batch.expect_table_columns_to_match_ordered_list(column_list=['user_id', 'start_time', 'end_time', 'title', 'description', 'service'])"
   ]
  },
  {
   "cell_type": "markdown",
   "id": "6d45c777",
   "metadata": {},
   "source": [
    "### Column Expectation(s)"
   ]
  },
  {
   "cell_type": "markdown",
   "id": "5b65fd6d",
   "metadata": {},
   "source": [
    "#### `service`"
   ]
  },
  {
   "cell_type": "code",
   "execution_count": 5,
   "id": "c6d97001",
   "metadata": {},
   "outputs": [
    {
     "data": {
      "text/plain": [
       "{\n",
       "  \"meta\": {},\n",
       "  \"result\": {\n",
       "    \"element_count\": 1000,\n",
       "    \"unexpected_count\": 0,\n",
       "    \"unexpected_percent\": 0.0,\n",
       "    \"unexpected_percent_total\": 0.0,\n",
       "    \"partial_unexpected_list\": []\n",
       "  },\n",
       "  \"success\": true,\n",
       "  \"exception_info\": {\n",
       "    \"raised_exception\": false,\n",
       "    \"exception_traceback\": null,\n",
       "    \"exception_message\": null\n",
       "  }\n",
       "}"
      ]
     },
     "execution_count": 5,
     "metadata": {},
     "output_type": "execute_result"
    }
   ],
   "source": [
    "batch.expect_column_values_to_not_be_null(column='service')"
   ]
  },
  {
   "cell_type": "code",
   "execution_count": 13,
   "id": "61358367",
   "metadata": {},
   "outputs": [
    {
     "data": {
      "text/plain": [
       "{\n",
       "  \"meta\": {},\n",
       "  \"result\": {\n",
       "    \"observed_value\": [\n",
       "      \"Connect\",\n",
       "      \"Disconnect\",\n",
       "      \"Setup Environment\"\n",
       "    ],\n",
       "    \"element_count\": 1000,\n",
       "    \"missing_count\": null,\n",
       "    \"missing_percent\": null\n",
       "  },\n",
       "  \"success\": true,\n",
       "  \"exception_info\": {\n",
       "    \"raised_exception\": false,\n",
       "    \"exception_traceback\": null,\n",
       "    \"exception_message\": null\n",
       "  }\n",
       "}"
      ]
     },
     "execution_count": 13,
     "metadata": {},
     "output_type": "execute_result"
    }
   ],
   "source": [
    "batch.expect_column_distinct_values_to_be_in_set(column='service', value_set=['Connect', 'Disconnect', 'Setup Environment'])"
   ]
  },
  {
   "cell_type": "code",
   "execution_count": null,
   "id": "f363b26a",
   "metadata": {},
   "outputs": [],
   "source": [
    "batch.expect_column_kl_divergence_to_be_less_than(column='service', partition_object={'values': ['Connect', 'Disconnect', 'Setup Environment'], 'weights': [0.323, 0.324, 0.353]}, threshold=0.6)"
   ]
  },
  {
   "cell_type": "code",
   "execution_count": 12,
   "id": "96252a28",
   "metadata": {},
   "outputs": [
    {
     "data": {
      "text/plain": [
       "{\n",
       "  \"meta\": {},\n",
       "  \"result\": {\n",
       "    \"observed_value\": [\n",
       "      \"Connect\",\n",
       "      \"Disconnect\",\n",
       "      \"Setup Environment\"\n",
       "    ],\n",
       "    \"element_count\": 1000,\n",
       "    \"missing_count\": null,\n",
       "    \"missing_percent\": null\n",
       "  },\n",
       "  \"success\": true,\n",
       "  \"exception_info\": {\n",
       "    \"raised_exception\": false,\n",
       "    \"exception_traceback\": null,\n",
       "    \"exception_message\": null\n",
       "  }\n",
       "}"
      ]
     },
     "execution_count": 12,
     "metadata": {},
     "output_type": "execute_result"
    }
   ],
   "source": [
    "batch.expect_column_distinct_values_to_equal_set(column='service', value_set=['Connect', 'Disconnect', 'Setup Environment'])"
   ]
  },
  {
   "cell_type": "markdown",
   "id": "f33a20ce",
   "metadata": {},
   "source": [
    "#### `title`"
   ]
  },
  {
   "cell_type": "code",
   "execution_count": 6,
   "id": "2cfa052a",
   "metadata": {},
   "outputs": [
    {
     "data": {
      "text/plain": [
       "{\n",
       "  \"meta\": {},\n",
       "  \"result\": {\n",
       "    \"element_count\": 1000,\n",
       "    \"unexpected_count\": 0,\n",
       "    \"unexpected_percent\": 0.0,\n",
       "    \"unexpected_percent_total\": 0.0,\n",
       "    \"partial_unexpected_list\": []\n",
       "  },\n",
       "  \"success\": true,\n",
       "  \"exception_info\": {\n",
       "    \"raised_exception\": false,\n",
       "    \"exception_traceback\": null,\n",
       "    \"exception_message\": null\n",
       "  }\n",
       "}"
      ]
     },
     "execution_count": 6,
     "metadata": {},
     "output_type": "execute_result"
    }
   ],
   "source": [
    "batch.expect_column_values_to_not_be_null(column='title')"
   ]
  },
  {
   "cell_type": "code",
   "execution_count": 14,
   "id": "d35a2806",
   "metadata": {},
   "outputs": [
    {
     "data": {
      "text/plain": [
       "{\n",
       "  \"meta\": {},\n",
       "  \"result\": {\n",
       "    \"element_count\": 1000,\n",
       "    \"missing_count\": 0,\n",
       "    \"missing_percent\": 0.0,\n",
       "    \"unexpected_count\": 0,\n",
       "    \"unexpected_percent\": 0.0,\n",
       "    \"unexpected_percent_total\": 0.0,\n",
       "    \"unexpected_percent_nonmissing\": 0.0,\n",
       "    \"partial_unexpected_list\": []\n",
       "  },\n",
       "  \"success\": true,\n",
       "  \"exception_info\": {\n",
       "    \"raised_exception\": false,\n",
       "    \"exception_traceback\": null,\n",
       "    \"exception_message\": null\n",
       "  }\n",
       "}"
      ]
     },
     "execution_count": 14,
     "metadata": {},
     "output_type": "execute_result"
    }
   ],
   "source": [
    "batch.expect_column_value_lengths_to_be_between(column='title', min_value=1)"
   ]
  },
  {
   "cell_type": "markdown",
   "id": "e65fa7f0",
   "metadata": {},
   "source": [
    "#### `start_time`"
   ]
  },
  {
   "cell_type": "code",
   "execution_count": 7,
   "id": "cdf3c635",
   "metadata": {},
   "outputs": [
    {
     "data": {
      "text/plain": [
       "{\n",
       "  \"meta\": {},\n",
       "  \"result\": {\n",
       "    \"element_count\": 1000,\n",
       "    \"unexpected_count\": 0,\n",
       "    \"unexpected_percent\": 0.0,\n",
       "    \"unexpected_percent_total\": 0.0,\n",
       "    \"partial_unexpected_list\": []\n",
       "  },\n",
       "  \"success\": true,\n",
       "  \"exception_info\": {\n",
       "    \"raised_exception\": false,\n",
       "    \"exception_traceback\": null,\n",
       "    \"exception_message\": null\n",
       "  }\n",
       "}"
      ]
     },
     "execution_count": 7,
     "metadata": {},
     "output_type": "execute_result"
    }
   ],
   "source": [
    "batch.expect_column_values_to_not_be_null(column='start_time')"
   ]
  },
  {
   "cell_type": "code",
   "execution_count": null,
   "id": "579e0e85",
   "metadata": {},
   "outputs": [],
   "source": [
    "batch.expect_column_values_to_be_between(column='start_time', max_value='2015-12-31 22:22:31', min_value='2012-01-03 22:22:31', parse_strings_as_datetimes=True)"
   ]
  },
  {
   "cell_type": "code",
   "execution_count": 8,
   "id": "99459975",
   "metadata": {},
   "outputs": [
    {
     "data": {
      "text/plain": [
       "{\n",
       "  \"meta\": {},\n",
       "  \"result\": {\n",
       "    \"element_count\": 1000,\n",
       "    \"unexpected_count\": 0,\n",
       "    \"unexpected_percent\": 0.0,\n",
       "    \"unexpected_percent_total\": 0.0,\n",
       "    \"partial_unexpected_list\": []\n",
       "  },\n",
       "  \"success\": true,\n",
       "  \"exception_info\": {\n",
       "    \"raised_exception\": false,\n",
       "    \"exception_traceback\": null,\n",
       "    \"exception_message\": null\n",
       "  }\n",
       "}"
      ]
     },
     "execution_count": 8,
     "metadata": {},
     "output_type": "execute_result"
    }
   ],
   "source": [
    "batch.expect_column_values_to_not_be_null(column='end_time')"
   ]
  },
  {
   "cell_type": "code",
   "execution_count": 10,
   "id": "6511989c",
   "metadata": {},
   "outputs": [
    {
     "data": {
      "text/plain": [
       "{\n",
       "  \"meta\": {},\n",
       "  \"result\": {\n",
       "    \"element_count\": 1000,\n",
       "    \"unexpected_count\": 0,\n",
       "    \"unexpected_percent\": 0.0,\n",
       "    \"unexpected_percent_total\": 0.0,\n",
       "    \"partial_unexpected_list\": []\n",
       "  },\n",
       "  \"success\": true,\n",
       "  \"exception_info\": {\n",
       "    \"raised_exception\": false,\n",
       "    \"exception_traceback\": null,\n",
       "    \"exception_message\": null\n",
       "  }\n",
       "}"
      ]
     },
     "execution_count": 10,
     "metadata": {},
     "output_type": "execute_result"
    }
   ],
   "source": [
    "batch.expect_column_values_to_not_be_null(column='user_id')"
   ]
  },
  {
   "cell_type": "code",
   "execution_count": 11,
   "id": "8cabce7d",
   "metadata": {},
   "outputs": [
    {
     "data": {
      "text/plain": [
       "{\n",
       "  \"meta\": {},\n",
       "  \"result\": {\n",
       "    \"element_count\": 1000,\n",
       "    \"unexpected_count\": 0,\n",
       "    \"unexpected_percent\": 0.0,\n",
       "    \"unexpected_percent_total\": 0.0,\n",
       "    \"partial_unexpected_list\": []\n",
       "  },\n",
       "  \"success\": true,\n",
       "  \"exception_info\": {\n",
       "    \"raised_exception\": false,\n",
       "    \"exception_traceback\": null,\n",
       "    \"exception_message\": null\n",
       "  }\n",
       "}"
      ]
     },
     "execution_count": 11,
     "metadata": {},
     "output_type": "execute_result"
    }
   ],
   "source": [
    "batch.expect_column_values_to_not_be_null(column='description')"
   ]
  },
  {
   "cell_type": "markdown",
   "id": "3d5f59da",
   "metadata": {},
   "source": [
    "## Save & Review Your Expectations\n",
    "\n",
    "Let's save the expectation suite as a JSON file in the `great_expectations/expectations` directory of your project.\n",
    "If you decide not to save some expectations that you created, use [remove_expectation method](https://docs.greatexpectations.io/en/latest/autoapi/great_expectations/data_asset/index.html?highlight=remove_expectation&utm_source=notebook&utm_medium=edit_expectations#great_expectations.data_asset.DataAsset.remove_expectation).\n",
    "\n",
    "Let's now rebuild your Data Docs, which helps you communicate about your data with both machines and humans."
   ]
  },
  {
   "cell_type": "code",
   "execution_count": 15,
   "id": "748be904",
   "metadata": {},
   "outputs": [
    {
     "name": "stdout",
     "output_type": "stream",
     "text": [
      "2021-05-23T01:03:09+0300 - INFO - \t12 expectation(s) included in expectation_suite. result_format settings filtered.\n",
      "2021-05-23T01:03:09+0300 - INFO - Generating query from table batch_kwargs based on limit and offset\n",
      "2021-05-23T01:03:10+0300 - INFO - Setting run_name to: 20210522T220310.365140Z\n",
      "2021-05-23T01:03:10+0300 - INFO - \t12 expectation(s) included in expectation_suite.\n"
     ]
    }
   ],
   "source": [
    "batch.save_expectation_suite(discard_failed_expectations=False)\n",
    "\n",
    "results = LegacyCheckpoint(\n",
    "    name=\"_temp_checkpoint\",\n",
    "    data_context=context,\n",
    "    batches=[\n",
    "        {\n",
    "          \"batch_kwargs\": batch_kwargs,\n",
    "          \"expectation_suite_names\": [expectation_suite_name]\n",
    "        }\n",
    "    ]\n",
    ").run()\n",
    "validation_result_identifier = results.list_validation_result_identifiers()[0]\n",
    "context.build_data_docs()\n",
    "context.open_data_docs(validation_result_identifier)"
   ]
  }
 ],
 "metadata": {
  "kernelspec": {
   "display_name": "Python 3",
   "language": "python",
   "name": "python3"
  },
  "language_info": {
   "codemirror_mode": {
    "name": "ipython",
    "version": 3
   },
   "file_extension": ".py",
   "mimetype": "text/x-python",
   "name": "python",
   "nbconvert_exporter": "python",
   "pygments_lexer": "ipython3",
   "version": "3.8.10"
  }
 },
 "nbformat": 4,
 "nbformat_minor": 5
}
