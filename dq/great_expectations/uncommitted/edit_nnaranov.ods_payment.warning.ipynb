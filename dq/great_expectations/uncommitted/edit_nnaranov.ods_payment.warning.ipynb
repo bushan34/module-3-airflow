{
 "cells": [
  {
   "cell_type": "markdown",
   "id": "91cc8275",
   "metadata": {},
   "source": [
    "# Edit Your Expectation Suite\n",
    "Use this notebook to recreate and modify your expectation suite:\n",
    "\n",
    "**Expectation Suite Name**: `nnaranov.ods_payment.warning`\n",
    "\n",
    "We'd love it if you **reach out to us on** the [**Great Expectations Slack Channel**](https://greatexpectations.io/slack)"
   ]
  },
  {
   "cell_type": "code",
   "execution_count": 1,
   "id": "abb50bce",
   "metadata": {},
   "outputs": [
    {
     "name": "stdout",
     "output_type": "stream",
     "text": [
      "2021-05-23T00:26:22+0300 - INFO - Great Expectations logging enabled at 20 level by JupyterUX module.\n",
      "2021-05-23T00:26:24+0300 - INFO - Generating query from table batch_kwargs based on limit and offset\n",
      "2021-05-23T00:26:25+0300 - INFO - \t0 expectation(s) included in expectation_suite.\n"
     ]
    },
    {
     "data": {
      "text/html": [
       "<div>\n",
       "<style scoped>\n",
       "    .dataframe tbody tr th:only-of-type {\n",
       "        vertical-align: middle;\n",
       "    }\n",
       "\n",
       "    .dataframe tbody tr th {\n",
       "        vertical-align: top;\n",
       "    }\n",
       "\n",
       "    .dataframe thead th {\n",
       "        text-align: right;\n",
       "    }\n",
       "</style>\n",
       "<table border=\"1\" class=\"dataframe\">\n",
       "  <thead>\n",
       "    <tr style=\"text-align: right;\">\n",
       "      <th></th>\n",
       "      <th>user_id</th>\n",
       "      <th>pay_doc_type</th>\n",
       "      <th>pay_doc_num</th>\n",
       "      <th>account</th>\n",
       "      <th>phone</th>\n",
       "      <th>billing_period</th>\n",
       "      <th>pay_date</th>\n",
       "      <th>sum</th>\n",
       "    </tr>\n",
       "  </thead>\n",
       "  <tbody>\n",
       "    <tr>\n",
       "      <th>0</th>\n",
       "      <td>10140</td>\n",
       "      <td>MIR</td>\n",
       "      <td>6696</td>\n",
       "      <td>FL-295</td>\n",
       "      <td>+79011736295</td>\n",
       "      <td>2014-12</td>\n",
       "      <td>2013-11-13</td>\n",
       "      <td>19677.0</td>\n",
       "    </tr>\n",
       "    <tr>\n",
       "      <th>1</th>\n",
       "      <td>10230</td>\n",
       "      <td>MASTER</td>\n",
       "      <td>32859</td>\n",
       "      <td>FL-45208</td>\n",
       "      <td>+79015457025</td>\n",
       "      <td>2020-04</td>\n",
       "      <td>2013-01-16</td>\n",
       "      <td>24876.0</td>\n",
       "    </tr>\n",
       "    <tr>\n",
       "      <th>2</th>\n",
       "      <td>10030</td>\n",
       "      <td>MASTER</td>\n",
       "      <td>18011</td>\n",
       "      <td>FL-44750</td>\n",
       "      <td>+79016944523</td>\n",
       "      <td>2016-03</td>\n",
       "      <td>2013-10-15</td>\n",
       "      <td>1648.0</td>\n",
       "    </tr>\n",
       "    <tr>\n",
       "      <th>3</th>\n",
       "      <td>10620</td>\n",
       "      <td>MASTER</td>\n",
       "      <td>10422</td>\n",
       "      <td>FL-46218</td>\n",
       "      <td>+79016442499</td>\n",
       "      <td>2018-03</td>\n",
       "      <td>2013-10-27</td>\n",
       "      <td>14073.0</td>\n",
       "    </tr>\n",
       "    <tr>\n",
       "      <th>4</th>\n",
       "      <td>10650</td>\n",
       "      <td>VISA</td>\n",
       "      <td>28718</td>\n",
       "      <td>FL-35185</td>\n",
       "      <td>+79011537643</td>\n",
       "      <td>2016-06</td>\n",
       "      <td>2013-09-01</td>\n",
       "      <td>37574.0</td>\n",
       "    </tr>\n",
       "  </tbody>\n",
       "</table>\n",
       "</div>"
      ],
      "text/plain": [
       "   user_id pay_doc_type  pay_doc_num   account         phone billing_period  \\\n",
       "0    10140          MIR         6696    FL-295  +79011736295        2014-12   \n",
       "1    10230       MASTER        32859  FL-45208  +79015457025        2020-04   \n",
       "2    10030       MASTER        18011  FL-44750  +79016944523        2016-03   \n",
       "3    10620       MASTER        10422  FL-46218  +79016442499        2018-03   \n",
       "4    10650         VISA        28718  FL-35185  +79011537643        2016-06   \n",
       "\n",
       "     pay_date      sum  \n",
       "0  2013-11-13  19677.0  \n",
       "1  2013-01-16  24876.0  \n",
       "2  2013-10-15   1648.0  \n",
       "3  2013-10-27  14073.0  \n",
       "4  2013-09-01  37574.0  "
      ]
     },
     "execution_count": 1,
     "metadata": {},
     "output_type": "execute_result"
    }
   ],
   "source": [
    "import datetime\n",
    "import great_expectations as ge\n",
    "import great_expectations.jupyter_ux\n",
    "from great_expectations.checkpoint import LegacyCheckpoint\n",
    "from great_expectations.data_context.types.resource_identifiers import ValidationResultIdentifier\n",
    "\n",
    "context = ge.data_context.DataContext()\n",
    "\n",
    "# Feel free to change the name of your suite here. Renaming this will not\n",
    "# remove the other one.\n",
    "expectation_suite_name = \"nnaranov.ods_payment.warning\"\n",
    "suite = context.get_expectation_suite(expectation_suite_name)\n",
    "suite.expectations = []\n",
    "\n",
    "batch_kwargs = {'data_asset_name': 'nnaranov.ods_payment', 'datasource': 'gr', 'limit': 1000, 'schema': 'nnaranov', 'table': 'ods_payment'}\n",
    "batch = context.get_batch(batch_kwargs, suite)\n",
    "batch.head()"
   ]
  },
  {
   "cell_type": "markdown",
   "id": "9ca73808",
   "metadata": {},
   "source": [
    "## Create & Edit Expectations\n",
    "\n",
    "Add expectations by calling specific expectation methods on the `batch` object. They all begin with `.expect_` which makes autocompleting easy using tab.\n",
    "\n",
    "You can see all the available expectations in the **[expectation glossary](https://docs.greatexpectations.io/en/latest/reference/glossary_of_expectations.html?utm_source=notebook&utm_medium=create_expectations)**."
   ]
  },
  {
   "cell_type": "markdown",
   "id": "ec9f0778",
   "metadata": {},
   "source": [
    "### Table Expectation(s)"
   ]
  },
  {
   "cell_type": "code",
   "execution_count": 2,
   "id": "eb9ce8f7",
   "metadata": {},
   "outputs": [
    {
     "data": {
      "text/plain": [
       "{\n",
       "  \"result\": {\n",
       "    \"observed_value\": 1000\n",
       "  },\n",
       "  \"exception_info\": {\n",
       "    \"raised_exception\": false,\n",
       "    \"exception_traceback\": null,\n",
       "    \"exception_message\": null\n",
       "  },\n",
       "  \"success\": true,\n",
       "  \"meta\": {}\n",
       "}"
      ]
     },
     "execution_count": 2,
     "metadata": {},
     "output_type": "execute_result"
    }
   ],
   "source": [
    "batch.expect_table_row_count_to_be_between(max_value=1100, min_value=900)"
   ]
  },
  {
   "cell_type": "code",
   "execution_count": 3,
   "id": "8c35a0d8",
   "metadata": {},
   "outputs": [
    {
     "data": {
      "text/plain": [
       "{\n",
       "  \"result\": {\n",
       "    \"observed_value\": 8\n",
       "  },\n",
       "  \"exception_info\": {\n",
       "    \"raised_exception\": false,\n",
       "    \"exception_traceback\": null,\n",
       "    \"exception_message\": null\n",
       "  },\n",
       "  \"success\": true,\n",
       "  \"meta\": {}\n",
       "}"
      ]
     },
     "execution_count": 3,
     "metadata": {},
     "output_type": "execute_result"
    }
   ],
   "source": [
    "batch.expect_table_column_count_to_equal(value=8)"
   ]
  },
  {
   "cell_type": "code",
   "execution_count": 4,
   "id": "a864cad8",
   "metadata": {},
   "outputs": [
    {
     "data": {
      "text/plain": [
       "{\n",
       "  \"result\": {\n",
       "    \"observed_value\": [\n",
       "      \"user_id\",\n",
       "      \"pay_doc_type\",\n",
       "      \"pay_doc_num\",\n",
       "      \"account\",\n",
       "      \"phone\",\n",
       "      \"billing_period\",\n",
       "      \"pay_date\",\n",
       "      \"sum\"\n",
       "    ]\n",
       "  },\n",
       "  \"exception_info\": {\n",
       "    \"raised_exception\": false,\n",
       "    \"exception_traceback\": null,\n",
       "    \"exception_message\": null\n",
       "  },\n",
       "  \"success\": true,\n",
       "  \"meta\": {}\n",
       "}"
      ]
     },
     "execution_count": 4,
     "metadata": {},
     "output_type": "execute_result"
    }
   ],
   "source": [
    "batch.expect_table_columns_to_match_ordered_list(column_list=['user_id', 'pay_doc_type', 'pay_doc_num', 'account', 'phone', 'billing_period', 'pay_date', 'sum'])"
   ]
  },
  {
   "cell_type": "markdown",
   "id": "f1ef2a40",
   "metadata": {},
   "source": [
    "### Column Expectation(s)"
   ]
  },
  {
   "cell_type": "markdown",
   "id": "4d36398d",
   "metadata": {},
   "source": [
    "#### `pay_doc_type`"
   ]
  },
  {
   "cell_type": "code",
   "execution_count": 5,
   "id": "88fa07cc",
   "metadata": {},
   "outputs": [
    {
     "data": {
      "text/plain": [
       "{\n",
       "  \"result\": {\n",
       "    \"element_count\": 1000,\n",
       "    \"unexpected_count\": 0,\n",
       "    \"unexpected_percent\": 0.0,\n",
       "    \"unexpected_percent_total\": 0.0,\n",
       "    \"partial_unexpected_list\": []\n",
       "  },\n",
       "  \"exception_info\": {\n",
       "    \"raised_exception\": false,\n",
       "    \"exception_traceback\": null,\n",
       "    \"exception_message\": null\n",
       "  },\n",
       "  \"success\": true,\n",
       "  \"meta\": {}\n",
       "}"
      ]
     },
     "execution_count": 5,
     "metadata": {},
     "output_type": "execute_result"
    }
   ],
   "source": [
    "batch.expect_column_values_to_not_be_null(column='pay_doc_type')"
   ]
  },
  {
   "cell_type": "code",
   "execution_count": 6,
   "id": "d8739131",
   "metadata": {},
   "outputs": [
    {
     "data": {
      "text/plain": [
       "{\n",
       "  \"result\": {\n",
       "    \"observed_value\": [\n",
       "      \"MASTER\",\n",
       "      \"MIR\",\n",
       "      \"VISA\"\n",
       "    ],\n",
       "    \"element_count\": 1000,\n",
       "    \"missing_count\": null,\n",
       "    \"missing_percent\": null\n",
       "  },\n",
       "  \"exception_info\": {\n",
       "    \"raised_exception\": false,\n",
       "    \"exception_traceback\": null,\n",
       "    \"exception_message\": null\n",
       "  },\n",
       "  \"success\": true,\n",
       "  \"meta\": {}\n",
       "}"
      ]
     },
     "execution_count": 6,
     "metadata": {},
     "output_type": "execute_result"
    }
   ],
   "source": [
    "batch.expect_column_distinct_values_to_be_in_set(column='pay_doc_type', value_set=['MASTER', 'MIR', 'VISA'])"
   ]
  },
  {
   "cell_type": "code",
   "execution_count": null,
   "id": "59feb2fc",
   "metadata": {},
   "outputs": [],
   "source": [
    "batch.expect_column_kl_divergence_to_be_less_than(column='pay_doc_type', partition_object={'values': ['MASTER', 'MIR', 'VISA'], 'weights': [0.311, 0.354, 0.335]}, threshold=0.6)"
   ]
  },
  {
   "cell_type": "markdown",
   "id": "cc3c5bd2",
   "metadata": {},
   "source": [
    "#### `pay_doc_num`"
   ]
  },
  {
   "cell_type": "code",
   "execution_count": 7,
   "id": "27c16764",
   "metadata": {},
   "outputs": [
    {
     "data": {
      "text/plain": [
       "{\n",
       "  \"result\": {\n",
       "    \"element_count\": 1000,\n",
       "    \"unexpected_count\": 0,\n",
       "    \"unexpected_percent\": 0.0,\n",
       "    \"unexpected_percent_total\": 0.0,\n",
       "    \"partial_unexpected_list\": []\n",
       "  },\n",
       "  \"exception_info\": {\n",
       "    \"raised_exception\": false,\n",
       "    \"exception_traceback\": null,\n",
       "    \"exception_message\": null\n",
       "  },\n",
       "  \"success\": true,\n",
       "  \"meta\": {}\n",
       "}"
      ]
     },
     "execution_count": 7,
     "metadata": {},
     "output_type": "execute_result"
    }
   ],
   "source": [
    "batch.expect_column_values_to_not_be_null(column='pay_doc_num')"
   ]
  },
  {
   "cell_type": "code",
   "execution_count": null,
   "id": "25443a2e",
   "metadata": {},
   "outputs": [],
   "source": [
    "batch.expect_column_min_to_be_between(column='pay_doc_num', max_value=5, min_value=3)"
   ]
  },
  {
   "cell_type": "code",
   "execution_count": null,
   "id": "c5f6a439",
   "metadata": {},
   "outputs": [],
   "source": [
    "batch.expect_column_max_to_be_between(column='pay_doc_num', max_value=49944, min_value=49942)"
   ]
  },
  {
   "cell_type": "code",
   "execution_count": null,
   "id": "9c04210f",
   "metadata": {},
   "outputs": [],
   "source": [
    "batch.expect_column_mean_to_be_between(column='pay_doc_num', max_value=25472.261, min_value=25470.261)"
   ]
  },
  {
   "cell_type": "code",
   "execution_count": null,
   "id": "3dac1806",
   "metadata": {},
   "outputs": [],
   "source": [
    "batch.expect_column_median_to_be_between(column='pay_doc_num', max_value=25108.0, min_value=25106.0)"
   ]
  },
  {
   "cell_type": "code",
   "execution_count": null,
   "id": "5de84735",
   "metadata": {},
   "outputs": [],
   "source": [
    "batch.expect_column_quantile_values_to_be_between(column='pay_doc_num', allow_relative_error=True, quantile_ranges={'quantiles': [0.05, 0.25, 0.5, 0.75, 0.95], 'value_ranges': [[2863, 2865], [12887, 12889], [25082, 25084], [38399, 38401], [47989, 47991]]})"
   ]
  },
  {
   "cell_type": "markdown",
   "id": "59453bd2",
   "metadata": {},
   "source": [
    "#### `account`"
   ]
  },
  {
   "cell_type": "code",
   "execution_count": 8,
   "id": "baef431b",
   "metadata": {},
   "outputs": [
    {
     "data": {
      "text/plain": [
       "{\n",
       "  \"result\": {\n",
       "    \"element_count\": 1000,\n",
       "    \"unexpected_count\": 0,\n",
       "    \"unexpected_percent\": 0.0,\n",
       "    \"unexpected_percent_total\": 0.0,\n",
       "    \"partial_unexpected_list\": []\n",
       "  },\n",
       "  \"exception_info\": {\n",
       "    \"raised_exception\": false,\n",
       "    \"exception_traceback\": null,\n",
       "    \"exception_message\": null\n",
       "  },\n",
       "  \"success\": true,\n",
       "  \"meta\": {}\n",
       "}"
      ]
     },
     "execution_count": 8,
     "metadata": {},
     "output_type": "execute_result"
    }
   ],
   "source": [
    "batch.expect_column_values_to_not_be_null(column='account')"
   ]
  },
  {
   "cell_type": "code",
   "execution_count": null,
   "id": "d770dba7",
   "metadata": {},
   "outputs": [],
   "source": [
    "batch.expect_column_value_lengths_to_be_between(column='account', min_value=1)"
   ]
  },
  {
   "cell_type": "code",
   "execution_count": 9,
   "id": "26d9042f",
   "metadata": {},
   "outputs": [
    {
     "data": {
      "text/plain": [
       "{\n",
       "  \"result\": {\n",
       "    \"element_count\": 1000,\n",
       "    \"missing_count\": 0,\n",
       "    \"missing_percent\": 0.0,\n",
       "    \"unexpected_count\": 0,\n",
       "    \"unexpected_percent\": 0.0,\n",
       "    \"unexpected_percent_total\": 0.0,\n",
       "    \"unexpected_percent_nonmissing\": 0.0,\n",
       "    \"partial_unexpected_list\": []\n",
       "  },\n",
       "  \"exception_info\": {\n",
       "    \"raised_exception\": false,\n",
       "    \"exception_traceback\": null,\n",
       "    \"exception_message\": null\n",
       "  },\n",
       "  \"success\": true,\n",
       "  \"meta\": {}\n",
       "}"
      ]
     },
     "execution_count": 9,
     "metadata": {},
     "output_type": "execute_result"
    }
   ],
   "source": [
    "batch.expect_column_values_to_match_regex(column='account', regex='^FL-\\d+$')"
   ]
  },
  {
   "cell_type": "markdown",
   "id": "aed46755",
   "metadata": {},
   "source": [
    "#### `pay_date`"
   ]
  },
  {
   "cell_type": "code",
   "execution_count": 10,
   "id": "09eb60bd",
   "metadata": {},
   "outputs": [
    {
     "data": {
      "text/plain": [
       "{\n",
       "  \"result\": {\n",
       "    \"element_count\": 1000,\n",
       "    \"unexpected_count\": 0,\n",
       "    \"unexpected_percent\": 0.0,\n",
       "    \"unexpected_percent_total\": 0.0,\n",
       "    \"partial_unexpected_list\": []\n",
       "  },\n",
       "  \"exception_info\": {\n",
       "    \"raised_exception\": false,\n",
       "    \"exception_traceback\": null,\n",
       "    \"exception_message\": null\n",
       "  },\n",
       "  \"success\": true,\n",
       "  \"meta\": {}\n",
       "}"
      ]
     },
     "execution_count": 10,
     "metadata": {},
     "output_type": "execute_result"
    }
   ],
   "source": [
    "batch.expect_column_values_to_not_be_null(column='pay_date')"
   ]
  },
  {
   "cell_type": "code",
   "execution_count": null,
   "id": "dd98774d",
   "metadata": {},
   "outputs": [],
   "source": [
    "batch.expect_column_values_to_be_between(column='pay_date', max_value='2015-12-31 00:00:00', min_value='2012-01-02 00:00:00', parse_strings_as_datetimes=True)"
   ]
  },
  {
   "cell_type": "markdown",
   "id": "834a9c28",
   "metadata": {},
   "source": [
    "#### `user_id`"
   ]
  },
  {
   "cell_type": "code",
   "execution_count": 11,
   "id": "8643b67c",
   "metadata": {},
   "outputs": [
    {
     "data": {
      "text/plain": [
       "{\n",
       "  \"result\": {\n",
       "    \"element_count\": 1000,\n",
       "    \"unexpected_count\": 0,\n",
       "    \"unexpected_percent\": 0.0,\n",
       "    \"unexpected_percent_total\": 0.0,\n",
       "    \"partial_unexpected_list\": []\n",
       "  },\n",
       "  \"exception_info\": {\n",
       "    \"raised_exception\": false,\n",
       "    \"exception_traceback\": null,\n",
       "    \"exception_message\": null\n",
       "  },\n",
       "  \"success\": true,\n",
       "  \"meta\": {}\n",
       "}"
      ]
     },
     "execution_count": 11,
     "metadata": {},
     "output_type": "execute_result"
    }
   ],
   "source": [
    "batch.expect_column_values_to_not_be_null(column='user_id')"
   ]
  },
  {
   "cell_type": "markdown",
   "id": "a0c57a50",
   "metadata": {},
   "source": [
    "#### `phone`"
   ]
  },
  {
   "cell_type": "code",
   "execution_count": 12,
   "id": "19929346",
   "metadata": {},
   "outputs": [
    {
     "data": {
      "text/plain": [
       "{\n",
       "  \"result\": {\n",
       "    \"element_count\": 1000,\n",
       "    \"unexpected_count\": 0,\n",
       "    \"unexpected_percent\": 0.0,\n",
       "    \"unexpected_percent_total\": 0.0,\n",
       "    \"partial_unexpected_list\": []\n",
       "  },\n",
       "  \"exception_info\": {\n",
       "    \"raised_exception\": false,\n",
       "    \"exception_traceback\": null,\n",
       "    \"exception_message\": null\n",
       "  },\n",
       "  \"success\": true,\n",
       "  \"meta\": {}\n",
       "}"
      ]
     },
     "execution_count": 12,
     "metadata": {},
     "output_type": "execute_result"
    }
   ],
   "source": [
    "batch.expect_column_values_to_not_be_null(column='phone')"
   ]
  },
  {
   "cell_type": "code",
   "execution_count": 13,
   "id": "cdee1278",
   "metadata": {},
   "outputs": [
    {
     "data": {
      "text/plain": [
       "{\n",
       "  \"result\": {\n",
       "    \"element_count\": 1000,\n",
       "    \"missing_count\": 0,\n",
       "    \"missing_percent\": 0.0,\n",
       "    \"unexpected_count\": 0,\n",
       "    \"unexpected_percent\": 0.0,\n",
       "    \"unexpected_percent_total\": 0.0,\n",
       "    \"unexpected_percent_nonmissing\": 0.0,\n",
       "    \"partial_unexpected_list\": []\n",
       "  },\n",
       "  \"exception_info\": {\n",
       "    \"raised_exception\": false,\n",
       "    \"exception_traceback\": null,\n",
       "    \"exception_message\": null\n",
       "  },\n",
       "  \"success\": true,\n",
       "  \"meta\": {}\n",
       "}"
      ]
     },
     "execution_count": 13,
     "metadata": {},
     "output_type": "execute_result"
    }
   ],
   "source": [
    "batch.expect_column_value_lengths_to_be_between(column='phone', min_value=10, max_value=12)"
   ]
  },
  {
   "cell_type": "markdown",
   "id": "e8a713be",
   "metadata": {},
   "source": [
    "#### `billing_period`"
   ]
  },
  {
   "cell_type": "code",
   "execution_count": 14,
   "id": "693c4327",
   "metadata": {},
   "outputs": [
    {
     "data": {
      "text/plain": [
       "{\n",
       "  \"result\": {\n",
       "    \"element_count\": 1000,\n",
       "    \"unexpected_count\": 0,\n",
       "    \"unexpected_percent\": 0.0,\n",
       "    \"unexpected_percent_total\": 0.0,\n",
       "    \"partial_unexpected_list\": []\n",
       "  },\n",
       "  \"exception_info\": {\n",
       "    \"raised_exception\": false,\n",
       "    \"exception_traceback\": null,\n",
       "    \"exception_message\": null\n",
       "  },\n",
       "  \"success\": true,\n",
       "  \"meta\": {}\n",
       "}"
      ]
     },
     "execution_count": 14,
     "metadata": {},
     "output_type": "execute_result"
    }
   ],
   "source": [
    "batch.expect_column_values_to_not_be_null(column='billing_period')"
   ]
  },
  {
   "cell_type": "markdown",
   "id": "6c45d05d",
   "metadata": {},
   "source": [
    "#### `sum`"
   ]
  },
  {
   "cell_type": "code",
   "execution_count": 15,
   "id": "3b5faabd",
   "metadata": {},
   "outputs": [
    {
     "data": {
      "text/plain": [
       "{\n",
       "  \"result\": {\n",
       "    \"element_count\": 1000,\n",
       "    \"unexpected_count\": 0,\n",
       "    \"unexpected_percent\": 0.0,\n",
       "    \"unexpected_percent_total\": 0.0,\n",
       "    \"partial_unexpected_list\": []\n",
       "  },\n",
       "  \"exception_info\": {\n",
       "    \"raised_exception\": false,\n",
       "    \"exception_traceback\": null,\n",
       "    \"exception_message\": null\n",
       "  },\n",
       "  \"success\": true,\n",
       "  \"meta\": {}\n",
       "}"
      ]
     },
     "execution_count": 15,
     "metadata": {},
     "output_type": "execute_result"
    }
   ],
   "source": [
    "batch.expect_column_values_to_not_be_null(column='sum')"
   ]
  },
  {
   "cell_type": "markdown",
   "id": "394ff320",
   "metadata": {},
   "source": [
    "## Save & Review Your Expectations\n",
    "\n",
    "Let's save the expectation suite as a JSON file in the `great_expectations/expectations` directory of your project.\n",
    "If you decide not to save some expectations that you created, use [remove_expectation method](https://docs.greatexpectations.io/en/latest/autoapi/great_expectations/data_asset/index.html?highlight=remove_expectation&utm_source=notebook&utm_medium=edit_expectations#great_expectations.data_asset.DataAsset.remove_expectation).\n",
    "\n",
    "Let's now rebuild your Data Docs, which helps you communicate about your data with both machines and humans."
   ]
  },
  {
   "cell_type": "code",
   "execution_count": 16,
   "id": "575b367b",
   "metadata": {},
   "outputs": [
    {
     "name": "stdout",
     "output_type": "stream",
     "text": [
      "2021-05-23T00:32:17+0300 - INFO - \t14 expectation(s) included in expectation_suite. result_format settings filtered.\n",
      "2021-05-23T00:32:17+0300 - INFO - Generating query from table batch_kwargs based on limit and offset\n",
      "2021-05-23T00:32:18+0300 - INFO - Setting run_name to: 20210522T213218.947270Z\n",
      "2021-05-23T00:32:18+0300 - INFO - \t14 expectation(s) included in expectation_suite.\n"
     ]
    }
   ],
   "source": [
    "batch.save_expectation_suite(discard_failed_expectations=False)\n",
    "\n",
    "results = LegacyCheckpoint(\n",
    "    name=\"_temp_checkpoint\",\n",
    "    data_context=context,\n",
    "    batches=[\n",
    "        {\n",
    "          \"batch_kwargs\": batch_kwargs,\n",
    "          \"expectation_suite_names\": [expectation_suite_name]\n",
    "        }\n",
    "    ]\n",
    ").run()\n",
    "validation_result_identifier = results.list_validation_result_identifiers()[0]\n",
    "context.build_data_docs()\n",
    "context.open_data_docs(validation_result_identifier)"
   ]
  }
 ],
 "metadata": {
  "kernelspec": {
   "display_name": "Python 3",
   "language": "python",
   "name": "python3"
  },
  "language_info": {
   "codemirror_mode": {
    "name": "ipython",
    "version": 3
   },
   "file_extension": ".py",
   "mimetype": "text/x-python",
   "name": "python",
   "nbconvert_exporter": "python",
   "pygments_lexer": "ipython3",
   "version": "3.8.10"
  }
 },
 "nbformat": 4,
 "nbformat_minor": 5
}
