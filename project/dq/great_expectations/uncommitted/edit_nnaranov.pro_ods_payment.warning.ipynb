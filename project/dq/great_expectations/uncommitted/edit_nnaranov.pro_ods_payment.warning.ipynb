{
 "cells": [
  {
   "cell_type": "markdown",
   "id": "937a2d75",
   "metadata": {},
   "source": [
    "# Edit Your Expectation Suite\n",
    "Use this notebook to recreate and modify your expectation suite:\n",
    "\n",
    "**Expectation Suite Name**: `nnaranov.pro_ods_payment.warning`\n",
    "\n",
    "We'd love it if you **reach out to us on** the [**Great Expectations Slack Channel**](https://greatexpectations.io/slack)"
   ]
  },
  {
   "cell_type": "code",
   "execution_count": 10,
   "id": "c23aab61",
   "metadata": {},
   "outputs": [
    {
     "name": "stdout",
     "output_type": "stream",
     "text": [
      "2021-05-27T23:32:33+0300 - INFO - Generating query from table batch_kwargs based on limit and offset\n",
      "2021-05-27T23:32:35+0300 - INFO - \t0 expectation(s) included in expectation_suite.\n"
     ]
    },
    {
     "data": {
      "text/html": [
       "<div>\n",
       "<style scoped>\n",
       "    .dataframe tbody tr th:only-of-type {\n",
       "        vertical-align: middle;\n",
       "    }\n",
       "\n",
       "    .dataframe tbody tr th {\n",
       "        vertical-align: top;\n",
       "    }\n",
       "\n",
       "    .dataframe thead th {\n",
       "        text-align: right;\n",
       "    }\n",
       "</style>\n",
       "<table border=\"1\" class=\"dataframe\">\n",
       "  <thead>\n",
       "    <tr style=\"text-align: right;\">\n",
       "      <th></th>\n",
       "      <th>user_id</th>\n",
       "      <th>pay_doc_type</th>\n",
       "      <th>pay_doc_num</th>\n",
       "      <th>account</th>\n",
       "      <th>phone</th>\n",
       "      <th>billing_period</th>\n",
       "      <th>pay_date</th>\n",
       "      <th>sum</th>\n",
       "    </tr>\n",
       "  </thead>\n",
       "  <tbody>\n",
       "    <tr>\n",
       "      <th>0</th>\n",
       "      <td>10520</td>\n",
       "      <td>MIR</td>\n",
       "      <td>1241340568</td>\n",
       "      <td>FL-294178346</td>\n",
       "      <td>+79406371805</td>\n",
       "      <td>2013-01</td>\n",
       "      <td>2013-02-13</td>\n",
       "      <td>5222.0</td>\n",
       "    </tr>\n",
       "    <tr>\n",
       "      <th>1</th>\n",
       "      <td>10040</td>\n",
       "      <td>VISA</td>\n",
       "      <td>341998131</td>\n",
       "      <td>FL-392971743</td>\n",
       "      <td>+79342933791</td>\n",
       "      <td>2013-10</td>\n",
       "      <td>2013-11-13</td>\n",
       "      <td>2981.0</td>\n",
       "    </tr>\n",
       "    <tr>\n",
       "      <th>2</th>\n",
       "      <td>10550</td>\n",
       "      <td>VISA</td>\n",
       "      <td>82808421</td>\n",
       "      <td>FL-1871212747</td>\n",
       "      <td>+79961744719</td>\n",
       "      <td>2013-11</td>\n",
       "      <td>2013-12-11</td>\n",
       "      <td>5961.0</td>\n",
       "    </tr>\n",
       "    <tr>\n",
       "      <th>3</th>\n",
       "      <td>10320</td>\n",
       "      <td>VISA</td>\n",
       "      <td>1281805774</td>\n",
       "      <td>FL-1913701767</td>\n",
       "      <td>+79076032363</td>\n",
       "      <td>2013-06</td>\n",
       "      <td>2013-07-28</td>\n",
       "      <td>97.0</td>\n",
       "    </tr>\n",
       "    <tr>\n",
       "      <th>4</th>\n",
       "      <td>10820</td>\n",
       "      <td>MASTER</td>\n",
       "      <td>158009714</td>\n",
       "      <td>FL-1201307313</td>\n",
       "      <td>+79684307033</td>\n",
       "      <td>2013-03</td>\n",
       "      <td>2013-04-20</td>\n",
       "      <td>2155.0</td>\n",
       "    </tr>\n",
       "  </tbody>\n",
       "</table>\n",
       "</div>"
      ],
      "text/plain": [
       "   user_id pay_doc_type  pay_doc_num        account         phone  \\\n",
       "0    10520          MIR   1241340568   FL-294178346  +79406371805   \n",
       "1    10040         VISA    341998131   FL-392971743  +79342933791   \n",
       "2    10550         VISA     82808421  FL-1871212747  +79961744719   \n",
       "3    10320         VISA   1281805774  FL-1913701767  +79076032363   \n",
       "4    10820       MASTER    158009714  FL-1201307313  +79684307033   \n",
       "\n",
       "  billing_period    pay_date     sum  \n",
       "0        2013-01  2013-02-13  5222.0  \n",
       "1        2013-10  2013-11-13  2981.0  \n",
       "2        2013-11  2013-12-11  5961.0  \n",
       "3        2013-06  2013-07-28    97.0  \n",
       "4        2013-03  2013-04-20  2155.0  "
      ]
     },
     "execution_count": 10,
     "metadata": {},
     "output_type": "execute_result"
    }
   ],
   "source": [
    "import datetime\n",
    "import great_expectations as ge\n",
    "import great_expectations.jupyter_ux\n",
    "from great_expectations.checkpoint import LegacyCheckpoint\n",
    "from great_expectations.data_context.types.resource_identifiers import ValidationResultIdentifier\n",
    "\n",
    "context = ge.data_context.DataContext()\n",
    "\n",
    "# Feel free to change the name of your suite here. Renaming this will not\n",
    "# remove the other one.\n",
    "expectation_suite_name = \"nnaranov.pro_ods_payment.warning\"\n",
    "suite = context.get_expectation_suite(expectation_suite_name)\n",
    "suite.expectations = []\n",
    "\n",
    "batch_kwargs = {'data_asset_name': 'nnaranov.pro_ods_payment', 'datasource': 'gp', 'limit': 1000, 'schema': 'nnaranov', 'table': 'pro_ods_payment'}\n",
    "batch = context.get_batch(batch_kwargs, suite)\n",
    "batch.head()"
   ]
  },
  {
   "cell_type": "markdown",
   "id": "9c54f3f6",
   "metadata": {},
   "source": [
    "## Create & Edit Expectations\n",
    "\n",
    "Add expectations by calling specific expectation methods on the `batch` object. They all begin with `.expect_` which makes autocompleting easy using tab.\n",
    "\n",
    "You can see all the available expectations in the **[expectation glossary](https://docs.greatexpectations.io/en/latest/reference/glossary_of_expectations.html?utm_source=notebook&utm_medium=create_expectations)**."
   ]
  },
  {
   "cell_type": "markdown",
   "id": "47226afb",
   "metadata": {},
   "source": [
    "### Table Expectation(s)"
   ]
  },
  {
   "cell_type": "code",
   "execution_count": 2,
   "id": "efbe9dd3",
   "metadata": {},
   "outputs": [
    {
     "data": {
      "text/plain": [
       "{\n",
       "  \"success\": true,\n",
       "  \"result\": {\n",
       "    \"observed_value\": 1000\n",
       "  },\n",
       "  \"exception_info\": {\n",
       "    \"raised_exception\": false,\n",
       "    \"exception_traceback\": null,\n",
       "    \"exception_message\": null\n",
       "  },\n",
       "  \"meta\": {}\n",
       "}"
      ]
     },
     "execution_count": 2,
     "metadata": {},
     "output_type": "execute_result"
    }
   ],
   "source": [
    "batch.expect_table_row_count_to_be_between(max_value=1100, min_value=900)"
   ]
  },
  {
   "cell_type": "code",
   "execution_count": 3,
   "id": "9b5ce827",
   "metadata": {},
   "outputs": [
    {
     "data": {
      "text/plain": [
       "{\n",
       "  \"success\": true,\n",
       "  \"result\": {\n",
       "    \"observed_value\": 8\n",
       "  },\n",
       "  \"exception_info\": {\n",
       "    \"raised_exception\": false,\n",
       "    \"exception_traceback\": null,\n",
       "    \"exception_message\": null\n",
       "  },\n",
       "  \"meta\": {}\n",
       "}"
      ]
     },
     "execution_count": 3,
     "metadata": {},
     "output_type": "execute_result"
    }
   ],
   "source": [
    "batch.expect_table_column_count_to_equal(value=8)"
   ]
  },
  {
   "cell_type": "code",
   "execution_count": 4,
   "id": "7b70f81a",
   "metadata": {},
   "outputs": [
    {
     "data": {
      "text/plain": [
       "{\n",
       "  \"success\": true,\n",
       "  \"result\": {\n",
       "    \"observed_value\": [\n",
       "      \"user_id\",\n",
       "      \"pay_doc_type\",\n",
       "      \"pay_doc_num\",\n",
       "      \"account\",\n",
       "      \"phone\",\n",
       "      \"billing_period\",\n",
       "      \"pay_date\",\n",
       "      \"sum\"\n",
       "    ]\n",
       "  },\n",
       "  \"exception_info\": {\n",
       "    \"raised_exception\": false,\n",
       "    \"exception_traceback\": null,\n",
       "    \"exception_message\": null\n",
       "  },\n",
       "  \"meta\": {}\n",
       "}"
      ]
     },
     "execution_count": 4,
     "metadata": {},
     "output_type": "execute_result"
    }
   ],
   "source": [
    "batch.expect_table_columns_to_match_ordered_list(column_list=['user_id', 'pay_doc_type', 'pay_doc_num', 'account', 'phone', 'billing_period', 'pay_date', 'sum'])"
   ]
  },
  {
   "cell_type": "markdown",
   "id": "429ccb46",
   "metadata": {},
   "source": [
    "### Column Expectation(s)"
   ]
  },
  {
   "cell_type": "markdown",
   "id": "5844bc50",
   "metadata": {},
   "source": [
    "#### `pay_doc_type`"
   ]
  },
  {
   "cell_type": "code",
   "execution_count": 5,
   "id": "94775839",
   "metadata": {},
   "outputs": [
    {
     "data": {
      "text/plain": [
       "{\n",
       "  \"success\": true,\n",
       "  \"result\": {\n",
       "    \"element_count\": 1000,\n",
       "    \"unexpected_count\": 0,\n",
       "    \"unexpected_percent\": 0.0,\n",
       "    \"unexpected_percent_total\": 0.0,\n",
       "    \"partial_unexpected_list\": []\n",
       "  },\n",
       "  \"exception_info\": {\n",
       "    \"raised_exception\": false,\n",
       "    \"exception_traceback\": null,\n",
       "    \"exception_message\": null\n",
       "  },\n",
       "  \"meta\": {}\n",
       "}"
      ]
     },
     "execution_count": 5,
     "metadata": {},
     "output_type": "execute_result"
    }
   ],
   "source": [
    "batch.expect_column_values_to_not_be_null(column='pay_doc_type')"
   ]
  },
  {
   "cell_type": "code",
   "execution_count": 6,
   "id": "5eb7fd2c",
   "metadata": {},
   "outputs": [
    {
     "data": {
      "text/plain": [
       "{\n",
       "  \"success\": true,\n",
       "  \"result\": {\n",
       "    \"observed_value\": [\n",
       "      \"MASTER\",\n",
       "      \"MIR\",\n",
       "      \"VISA\"\n",
       "    ],\n",
       "    \"element_count\": 1000,\n",
       "    \"missing_count\": null,\n",
       "    \"missing_percent\": null\n",
       "  },\n",
       "  \"exception_info\": {\n",
       "    \"raised_exception\": false,\n",
       "    \"exception_traceback\": null,\n",
       "    \"exception_message\": null\n",
       "  },\n",
       "  \"meta\": {}\n",
       "}"
      ]
     },
     "execution_count": 6,
     "metadata": {},
     "output_type": "execute_result"
    }
   ],
   "source": [
    "batch.expect_column_distinct_values_to_be_in_set(column='pay_doc_type', value_set=['MASTER', 'MIR', 'VISA'])"
   ]
  },
  {
   "cell_type": "code",
   "execution_count": null,
   "id": "a1082728",
   "metadata": {},
   "outputs": [],
   "source": [
    "batch.expect_column_kl_divergence_to_be_less_than(column='pay_doc_type', partition_object={'values': ['MASTER', 'MIR', 'VISA'], 'weights': [0.358, 0.325, 0.317]}, threshold=0.6)"
   ]
  },
  {
   "cell_type": "markdown",
   "id": "82236456",
   "metadata": {},
   "source": [
    "#### `pay_doc_num`"
   ]
  },
  {
   "cell_type": "code",
   "execution_count": 7,
   "id": "db360c05",
   "metadata": {},
   "outputs": [
    {
     "data": {
      "text/plain": [
       "{\n",
       "  \"success\": true,\n",
       "  \"result\": {\n",
       "    \"element_count\": 1000,\n",
       "    \"unexpected_count\": 0,\n",
       "    \"unexpected_percent\": 0.0,\n",
       "    \"unexpected_percent_total\": 0.0,\n",
       "    \"partial_unexpected_list\": []\n",
       "  },\n",
       "  \"exception_info\": {\n",
       "    \"raised_exception\": false,\n",
       "    \"exception_traceback\": null,\n",
       "    \"exception_message\": null\n",
       "  },\n",
       "  \"meta\": {}\n",
       "}"
      ]
     },
     "execution_count": 7,
     "metadata": {},
     "output_type": "execute_result"
    }
   ],
   "source": [
    "batch.expect_column_values_to_not_be_null(column='pay_doc_num')"
   ]
  },
  {
   "cell_type": "code",
   "execution_count": null,
   "id": "e2c2b92f",
   "metadata": {},
   "outputs": [],
   "source": [
    "batch.expect_column_min_to_be_between(column='pay_doc_num', max_value=397089, min_value=397087)"
   ]
  },
  {
   "cell_type": "code",
   "execution_count": null,
   "id": "7491ead6",
   "metadata": {},
   "outputs": [],
   "source": [
    "batch.expect_column_max_to_be_between(column='pay_doc_num', max_value=2145760628, min_value=2145760626)"
   ]
  },
  {
   "cell_type": "code",
   "execution_count": null,
   "id": "fe475c71",
   "metadata": {},
   "outputs": [],
   "source": [
    "batch.expect_column_mean_to_be_between(column='pay_doc_num', max_value=1089910807.966, min_value=1089910805.966)"
   ]
  },
  {
   "cell_type": "code",
   "execution_count": null,
   "id": "7dd42693",
   "metadata": {},
   "outputs": [],
   "source": [
    "batch.expect_column_median_to_be_between(column='pay_doc_num', max_value=1122857986.5, min_value=1122857984.5)"
   ]
  },
  {
   "cell_type": "code",
   "execution_count": null,
   "id": "2ea31b02",
   "metadata": {},
   "outputs": [],
   "source": [
    "batch.expect_column_quantile_values_to_be_between(column='pay_doc_num', allow_relative_error=True, quantile_ranges={'quantiles': [0.05, 0.25, 0.5, 0.75, 0.95], 'value_ranges': [[115916158, 115916160], [523891370, 523891372], [1122552760, 1122552762], [1637299515, 1637299517], [2031272304, 2031272306]]})"
   ]
  },
  {
   "cell_type": "markdown",
   "id": "6ad8a0f9",
   "metadata": {},
   "source": [
    "#### `account`"
   ]
  },
  {
   "cell_type": "code",
   "execution_count": 8,
   "id": "a785bf1d",
   "metadata": {},
   "outputs": [
    {
     "data": {
      "text/plain": [
       "{\n",
       "  \"success\": true,\n",
       "  \"result\": {\n",
       "    \"element_count\": 1000,\n",
       "    \"unexpected_count\": 0,\n",
       "    \"unexpected_percent\": 0.0,\n",
       "    \"unexpected_percent_total\": 0.0,\n",
       "    \"partial_unexpected_list\": []\n",
       "  },\n",
       "  \"exception_info\": {\n",
       "    \"raised_exception\": false,\n",
       "    \"exception_traceback\": null,\n",
       "    \"exception_message\": null\n",
       "  },\n",
       "  \"meta\": {}\n",
       "}"
      ]
     },
     "execution_count": 8,
     "metadata": {},
     "output_type": "execute_result"
    }
   ],
   "source": [
    "batch.expect_column_values_to_not_be_null(column='account')"
   ]
  },
  {
   "cell_type": "code",
   "execution_count": 12,
   "id": "aae6dac4",
   "metadata": {},
   "outputs": [
    {
     "data": {
      "text/plain": [
       "{\n",
       "  \"success\": true,\n",
       "  \"result\": {\n",
       "    \"element_count\": 1000,\n",
       "    \"missing_count\": 0,\n",
       "    \"missing_percent\": 0.0,\n",
       "    \"unexpected_count\": 0,\n",
       "    \"unexpected_percent\": 0.0,\n",
       "    \"unexpected_percent_total\": 0.0,\n",
       "    \"unexpected_percent_nonmissing\": 0.0,\n",
       "    \"partial_unexpected_list\": []\n",
       "  },\n",
       "  \"exception_info\": {\n",
       "    \"raised_exception\": false,\n",
       "    \"exception_traceback\": null,\n",
       "    \"exception_message\": null\n",
       "  },\n",
       "  \"meta\": {}\n",
       "}"
      ]
     },
     "execution_count": 12,
     "metadata": {},
     "output_type": "execute_result"
    }
   ],
   "source": [
    "batch.expect_column_values_to_match_regex(column='account', regex='^FL-\\d+$')"
   ]
  },
  {
   "cell_type": "code",
   "execution_count": null,
   "id": "66db0a42",
   "metadata": {},
   "outputs": [],
   "source": [
    "batch.expect_column_value_lengths_to_be_between(column='account', min_value=1)"
   ]
  },
  {
   "cell_type": "markdown",
   "id": "4b1a2564",
   "metadata": {},
   "source": [
    "#### `pay_date`"
   ]
  },
  {
   "cell_type": "code",
   "execution_count": 13,
   "id": "3134357c",
   "metadata": {},
   "outputs": [
    {
     "data": {
      "text/plain": [
       "{\n",
       "  \"success\": true,\n",
       "  \"result\": {\n",
       "    \"element_count\": 1000,\n",
       "    \"unexpected_count\": 0,\n",
       "    \"unexpected_percent\": 0.0,\n",
       "    \"unexpected_percent_total\": 0.0,\n",
       "    \"partial_unexpected_list\": []\n",
       "  },\n",
       "  \"exception_info\": {\n",
       "    \"raised_exception\": false,\n",
       "    \"exception_traceback\": null,\n",
       "    \"exception_message\": null\n",
       "  },\n",
       "  \"meta\": {}\n",
       "}"
      ]
     },
     "execution_count": 13,
     "metadata": {},
     "output_type": "execute_result"
    }
   ],
   "source": [
    "batch.expect_column_values_to_not_be_null(column='pay_date')"
   ]
  },
  {
   "cell_type": "code",
   "execution_count": null,
   "id": "31578da0",
   "metadata": {},
   "outputs": [],
   "source": [
    "batch.expect_column_values_to_be_between(column='pay_date', max_value='2016-01-05 00:00:00', min_value='2012-01-03 00:00:00', parse_strings_as_datetimes=True)"
   ]
  },
  {
   "cell_type": "code",
   "execution_count": 14,
   "id": "49820ccb",
   "metadata": {},
   "outputs": [
    {
     "data": {
      "text/plain": [
       "{\n",
       "  \"success\": true,\n",
       "  \"result\": {\n",
       "    \"element_count\": 1000,\n",
       "    \"unexpected_count\": 0,\n",
       "    \"unexpected_percent\": 0.0,\n",
       "    \"unexpected_percent_total\": 0.0,\n",
       "    \"partial_unexpected_list\": []\n",
       "  },\n",
       "  \"exception_info\": {\n",
       "    \"raised_exception\": false,\n",
       "    \"exception_traceback\": null,\n",
       "    \"exception_message\": null\n",
       "  },\n",
       "  \"meta\": {}\n",
       "}"
      ]
     },
     "execution_count": 14,
     "metadata": {},
     "output_type": "execute_result"
    }
   ],
   "source": [
    "batch.expect_column_values_to_not_be_null(column='user_id')"
   ]
  },
  {
   "cell_type": "code",
   "execution_count": 15,
   "id": "80d2c1ee",
   "metadata": {},
   "outputs": [
    {
     "data": {
      "text/plain": [
       "{\n",
       "  \"success\": true,\n",
       "  \"result\": {\n",
       "    \"element_count\": 1000,\n",
       "    \"unexpected_count\": 0,\n",
       "    \"unexpected_percent\": 0.0,\n",
       "    \"unexpected_percent_total\": 0.0,\n",
       "    \"partial_unexpected_list\": []\n",
       "  },\n",
       "  \"exception_info\": {\n",
       "    \"raised_exception\": false,\n",
       "    \"exception_traceback\": null,\n",
       "    \"exception_message\": null\n",
       "  },\n",
       "  \"meta\": {}\n",
       "}"
      ]
     },
     "execution_count": 15,
     "metadata": {},
     "output_type": "execute_result"
    }
   ],
   "source": [
    "batch.expect_column_values_to_not_be_null(column='phone')"
   ]
  },
  {
   "cell_type": "code",
   "execution_count": 16,
   "id": "09fbca0f",
   "metadata": {},
   "outputs": [
    {
     "data": {
      "text/plain": [
       "{\n",
       "  \"success\": true,\n",
       "  \"result\": {\n",
       "    \"element_count\": 1000,\n",
       "    \"unexpected_count\": 0,\n",
       "    \"unexpected_percent\": 0.0,\n",
       "    \"unexpected_percent_total\": 0.0,\n",
       "    \"partial_unexpected_list\": []\n",
       "  },\n",
       "  \"exception_info\": {\n",
       "    \"raised_exception\": false,\n",
       "    \"exception_traceback\": null,\n",
       "    \"exception_message\": null\n",
       "  },\n",
       "  \"meta\": {}\n",
       "}"
      ]
     },
     "execution_count": 16,
     "metadata": {},
     "output_type": "execute_result"
    }
   ],
   "source": [
    "batch.expect_column_values_to_not_be_null(column='billing_period')"
   ]
  },
  {
   "cell_type": "code",
   "execution_count": 17,
   "id": "26256abd",
   "metadata": {},
   "outputs": [
    {
     "data": {
      "text/plain": [
       "{\n",
       "  \"success\": true,\n",
       "  \"result\": {\n",
       "    \"element_count\": 1000,\n",
       "    \"unexpected_count\": 0,\n",
       "    \"unexpected_percent\": 0.0,\n",
       "    \"unexpected_percent_total\": 0.0,\n",
       "    \"partial_unexpected_list\": []\n",
       "  },\n",
       "  \"exception_info\": {\n",
       "    \"raised_exception\": false,\n",
       "    \"exception_traceback\": null,\n",
       "    \"exception_message\": null\n",
       "  },\n",
       "  \"meta\": {}\n",
       "}"
      ]
     },
     "execution_count": 17,
     "metadata": {},
     "output_type": "execute_result"
    }
   ],
   "source": [
    "batch.expect_column_values_to_not_be_null(column='sum')"
   ]
  },
  {
   "cell_type": "code",
   "execution_count": 18,
   "id": "73a10be0",
   "metadata": {
    "scrolled": true
   },
   "outputs": [
    {
     "data": {
      "text/plain": [
       "{\n",
       "  \"success\": true,\n",
       "  \"result\": {\n",
       "    \"element_count\": 1000,\n",
       "    \"missing_count\": 0,\n",
       "    \"missing_percent\": 0.0,\n",
       "    \"unexpected_count\": 0,\n",
       "    \"unexpected_percent\": 0.0,\n",
       "    \"unexpected_percent_total\": 0.0,\n",
       "    \"unexpected_percent_nonmissing\": 0.0,\n",
       "    \"partial_unexpected_list\": []\n",
       "  },\n",
       "  \"exception_info\": {\n",
       "    \"raised_exception\": false,\n",
       "    \"exception_traceback\": null,\n",
       "    \"exception_message\": null\n",
       "  },\n",
       "  \"meta\": {}\n",
       "}"
      ]
     },
     "execution_count": 18,
     "metadata": {},
     "output_type": "execute_result"
    }
   ],
   "source": [
    "batch.expect_column_values_to_be_between(column='sum', max_value=None, min_value=1e-07, strict_max=False, strict_min=False)"
   ]
  },
  {
   "cell_type": "code",
   "execution_count": 19,
   "id": "b07498b6",
   "metadata": {},
   "outputs": [
    {
     "data": {
      "text/plain": [
       "{\n",
       "  \"success\": true,\n",
       "  \"result\": {\n",
       "    \"element_count\": 1000,\n",
       "    \"missing_count\": 0,\n",
       "    \"missing_percent\": 0.0,\n",
       "    \"unexpected_count\": 0,\n",
       "    \"unexpected_percent\": 0.0,\n",
       "    \"unexpected_percent_total\": 0.0,\n",
       "    \"unexpected_percent_nonmissing\": 0.0,\n",
       "    \"partial_unexpected_list\": []\n",
       "  },\n",
       "  \"exception_info\": {\n",
       "    \"raised_exception\": false,\n",
       "    \"exception_traceback\": null,\n",
       "    \"exception_message\": null\n",
       "  },\n",
       "  \"meta\": {}\n",
       "}"
      ]
     },
     "execution_count": 19,
     "metadata": {},
     "output_type": "execute_result"
    }
   ],
   "source": [
    "batch.expect_column_value_lengths_to_be_between(column='phone', min_value=10, max_value=12)"
   ]
  },
  {
   "cell_type": "markdown",
   "id": "2329eef5",
   "metadata": {},
   "source": [
    "## Save & Review Your Expectations\n",
    "\n",
    "Let's save the expectation suite as a JSON file in the `great_expectations/expectations` directory of your project.\n",
    "If you decide not to save some expectations that you created, use [remove_expectation method](https://docs.greatexpectations.io/en/latest/autoapi/great_expectations/data_asset/index.html?highlight=remove_expectation&utm_source=notebook&utm_medium=edit_expectations#great_expectations.data_asset.DataAsset.remove_expectation).\n",
    "\n",
    "Let's now rebuild your Data Docs, which helps you communicate about your data with both machines and humans."
   ]
  },
  {
   "cell_type": "code",
   "execution_count": 20,
   "id": "577f6f77",
   "metadata": {},
   "outputs": [
    {
     "name": "stdout",
     "output_type": "stream",
     "text": [
      "2021-05-27T23:39:16+0300 - INFO - \t8 expectation(s) included in expectation_suite. result_format settings filtered.\n",
      "2021-05-27T23:39:16+0300 - INFO - Generating query from table batch_kwargs based on limit and offset\n",
      "2021-05-27T23:39:17+0300 - INFO - Setting run_name to: 20210527T203917.964776Z\n",
      "2021-05-27T23:39:17+0300 - INFO - \t8 expectation(s) included in expectation_suite.\n"
     ]
    }
   ],
   "source": [
    "batch.save_expectation_suite(discard_failed_expectations=False)\n",
    "\n",
    "results = LegacyCheckpoint(\n",
    "    name=\"_temp_checkpoint\",\n",
    "    data_context=context,\n",
    "    batches=[\n",
    "        {\n",
    "          \"batch_kwargs\": batch_kwargs,\n",
    "          \"expectation_suite_names\": [expectation_suite_name]\n",
    "        }\n",
    "    ]\n",
    ").run()\n",
    "validation_result_identifier = results.list_validation_result_identifiers()[0]\n",
    "context.build_data_docs()\n",
    "context.open_data_docs(validation_result_identifier)"
   ]
  }
 ],
 "metadata": {
  "kernelspec": {
   "display_name": "Python 3",
   "language": "python",
   "name": "python3"
  },
  "language_info": {
   "codemirror_mode": {
    "name": "ipython",
    "version": 3
   },
   "file_extension": ".py",
   "mimetype": "text/x-python",
   "name": "python",
   "nbconvert_exporter": "python",
   "pygments_lexer": "ipython3",
   "version": "3.8.10"
  }
 },
 "nbformat": 4,
 "nbformat_minor": 5
}
